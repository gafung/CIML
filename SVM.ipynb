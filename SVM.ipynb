{
 "cells": [
  {
   "cell_type": "code",
   "execution_count": 1,
   "metadata": {},
   "outputs": [
    {
     "name": "stdout",
     "output_type": "stream",
     "text": [
      "(79651, 26)\n"
     ]
    }
   ],
   "source": [
    "import pandas as pd\n",
    "url = \"data_v2.csv\"\n",
    "insider = pd.read_csv(url, header=0)\n",
    "print insider.shape\n",
    "X_train = insider[['side', 'return_t5', \"return_t30\", \"vol_sh_out_pct\",\"stakepct\", \"stake_pct_chg\", \"mkt_cap\", \"prev_tran_num\"]][:60000]\n",
    "y_train_5d = insider.return_5d[:60000]\n",
    "y_train_30d = insider.return_30d[:60000]\n",
    "y_train_90d = insider.return_90d[:60000]\n",
    "X_test = insider[['side', 'return_t5', \"return_t30\", \"vol_sh_out_pct\",\"stakepct\", \"stake_pct_chg\",\"mkt_cap\",  \"prev_tran_num\"]][:-18000]\n",
    "y_test_5d = insider.return_5d[:-18000]\n",
    "y_test_30d = insider.return_30d[:-18000]\n",
    "y_test_90d = insider.return_90d[:-18000]"
   ]
  },
  {
   "cell_type": "code",
   "execution_count": null,
   "metadata": {
    "collapsed": true
   },
   "outputs": [],
   "source": [
    "import numpy as np\n",
    "from sklearn.svm import SVC\n",
    "clf = SVC()\n",
    "clf.fit(X_train, y_train_5d)\n",
    "print clf.score(X_test, y_test_5d)\n",
    "# clf.fit(X_train, y_train_30d)\n",
    "# print clf.score(X_test, y_test_30d)\n",
    "# clf.fit(X_train, y_train_90d)\n",
    "# print clf.score(X_test, y_test_90d)"
   ]
  },
  {
   "cell_type": "code",
   "execution_count": null,
   "metadata": {
    "collapsed": true
   },
   "outputs": [],
   "source": [
    "print insider"
   ]
  },
  {
   "cell_type": "code",
   "execution_count": null,
   "metadata": {
    "collapsed": true
   },
   "outputs": [],
   "source": []
  }
 ],
 "metadata": {
  "kernelspec": {
   "display_name": "Python 2",
   "language": "python",
   "name": "python2"
  },
  "language_info": {
   "codemirror_mode": {
    "name": "ipython",
    "version": 2
   },
   "file_extension": ".py",
   "mimetype": "text/x-python",
   "name": "python",
   "nbconvert_exporter": "python",
   "pygments_lexer": "ipython2",
   "version": "2.7.14"
  }
 },
 "nbformat": 4,
 "nbformat_minor": 2
}
