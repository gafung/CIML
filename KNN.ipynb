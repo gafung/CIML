{
 "cells": [
  {
   "cell_type": "code",
   "execution_count": 18,
   "metadata": {},
   "outputs": [
    {
     "name": "stdout",
     "output_type": "stream",
     "text": [
      "(79651, 26)\n"
     ]
    }
   ],
   "source": [
    "import pandas as pd\n",
    "url = \"data_v2.csv\"\n",
    "insider = pd.read_csv(url, header=0)\n",
    "print insider.shape"
   ]
  },
  {
   "cell_type": "code",
   "execution_count": 28,
   "metadata": {
    "collapsed": true
   },
   "outputs": [],
   "source": [
    "X_train = insider[['side', 'return_t5', \"return_t30\", \"vol_sh_out_pct\",\"stakepct\", \"stake_pct_chg\",  \"prev_tran_num\"]][:60000]\n",
    "y_train_5d = insider.return_5d[:60000]\n",
    "y_train_30d = insider.return_30d[:60000]\n",
    "y_train_90d = insider.return_90d[:60000]\n",
    "X_test = insider[['side', 'return_t5', \"return_t30\", \"vol_sh_out_pct\",\"stakepct\", \"stake_pct_chg\",  \"prev_tran_num\"]][:-18000]\n",
    "y_test_5d = insider.return_5d[:-18000]\n",
    "y_test_30d = insider.return_30d[:-18000]\n",
    "y_test_90d = insider.return_90d[:-18000]"
   ]
  },
  {
   "cell_type": "code",
   "execution_count": 29,
   "metadata": {},
   "outputs": [
    {
     "name": "stdout",
     "output_type": "stream",
     "text": [
      "0.728601320335\n",
      "0.749801300871\n",
      "0.755754164572\n"
     ]
    }
   ],
   "source": [
    "## Import the Classifier.\n",
    "from sklearn.neighbors import KNeighborsClassifier\n",
    "## Instantiate the model with 5 neighbors. \n",
    "knn = KNeighborsClassifier(n_neighbors=5)\n",
    "## Fit the model on the training data.\n",
    "knn.fit(X_train, y_train_5d)\n",
    "print knn.score(X_test, y_test_5d)\n",
    "knn.fit(X_train, y_train_30d)\n",
    "print knn.score(X_test, y_test_30d)\n",
    "knn.fit(X_train, y_train_90d)\n",
    "print knn.score(X_test, y_test_90d)"
   ]
  },
  {
   "cell_type": "code",
   "execution_count": 25,
   "metadata": {
    "collapsed": true
   },
   "outputs": [],
   "source": [
    "import matplotlib.pyplot as plt  \n",
    "import numpy as np\n",
    "\n",
    "def knn_train(n):\n",
    "    knn2 = KNeighborsClassifier(n_neighbors=n)\n",
    "    knn2.fit(X_train, y_train_5d)\n",
    "    return knn2.score(X_test, y_test_5d)\n",
    "\n",
    "x = np.arange(1, 20, 1)"
   ]
  },
  {
   "cell_type": "code",
   "execution_count": 27,
   "metadata": {},
   "outputs": [
    {
     "data": {
      "image/png": "[encoded data removed]",
      "text/plain": [
       "<matplotlib.figure.Figure at 0x1c5d6828>"
      ]
     },
     "metadata": {},
     "output_type": "display_data"
    }
   ],
   "source": [
    "y = []\n",
    "for i in x:\n",
    "    y.append(knn_train(i))\n",
    "\n",
    "plt.plot(x, np.asarray(y))\n",
    "plt.show()"
   ]
  },
  {
   "cell_type": "code",
   "execution_count": null,
   "metadata": {
    "collapsed": true
   },
   "outputs": [],
   "source": []
  }
 ],
 "metadata": {
  "kernelspec": {
   "display_name": "Python 2",
   "language": "python",
   "name": "python2"
  },
  "language_info": {
   "codemirror_mode": {
    "name": "ipython",
    "version": 2
   },
   "file_extension": ".py",
   "mimetype": "text/x-python",
   "name": "python",
   "nbconvert_exporter": "python",
   "pygments_lexer": "ipython2",
   "version": "2.7.14"
  }
 },
 "nbformat": 4,
 "nbformat_minor": 2
}
