{
 "cells": [
  {
   "cell_type": "code",
   "execution_count": 4,
   "metadata": {},
   "outputs": [
    {
     "name": "stdout",
     "output_type": "stream",
     "text": [
      "(51722, 30)\n"
     ]
    }
   ],
   "source": [
    "import pandas as pd\n",
    "url = \"data_v3.csv\"\n",
    "insider = pd.read_csv(url, header=0)\n",
    "print insider.shape\n",
    "\n",
    "row_num = insider['side'].count()+1\n",
    "train_num = int(row_num /3*2)\n",
    "test_num = -1*int(row_num /3)\n",
    "\n",
    "col_list = ['side', 'return_t5', \"return_t30\", \"vol_sh_out_pct\",\"tran_value\",\"mkt_cap\", \"prev_tran_num\",\"hit_rate_5d\", \"hit_rate_30d\", \"hit_rate_90d\"]\n",
    "\n",
    "# Apply Min / Max Scaling\n",
    "def scaler(col_name):\n",
    "    insider[col_name] = (insider[col_name]-insider[col_name].min())/ (insider[col_name].max()-insider[col_name].min())\n",
    "\n",
    "for i in col_list:\n",
    "    scaler(i)\n",
    "    \n",
    "X_train = insider[col_list][:train_num]\n",
    "y_train_5d = insider.return_5d[:train_num]\n",
    "y_train_30d = insider.return_30d[:train_num]\n",
    "y_train_90d = insider.return_90d[:train_num]\n",
    "\n",
    "X_test = insider[col_list][test_num:]\n",
    "y_test_5d = insider.return_5d[test_num:]\n",
    "y_test_30d = insider.return_30d[test_num:]\n",
    "y_test_90d = insider.return_90d[test_num:]"
   ]
  },
  {
   "cell_type": "code",
   "execution_count": 5,
   "metadata": {},
   "outputs": [
    {
     "name": "stdout",
     "output_type": "stream",
     "text": [
      "5d model\n",
      "0.549156081434\n",
      "30d model\n",
      "0.570732556116\n",
      "90d model\n",
      "0.585290876399\n"
     ]
    }
   ],
   "source": [
    "# Load scikit's random forest classifier library\n",
    "from sklearn.ensemble import RandomForestClassifier\n",
    "# Load numpy\n",
    "import numpy as np\n",
    "\n",
    "print \"5d model\"\n",
    "clf = RandomForestClassifier(n_estimators=100, n_jobs=-1, random_state=0)\n",
    "clf.fit(X_train, y_train_5d)\n",
    "print clf.score(X_test, y_test_5d)\n",
    "# print \"Feature Importance:\", clf.feature_importances_\n",
    "\n",
    "print \"30d model\"\n",
    "clf.fit(X_train, y_train_30d)\n",
    "print clf.score(X_test, y_test_30d)\n",
    "# print \"Feature Importance:\", clf.feature_importances_\n",
    "\n",
    "print \"90d model\"\n",
    "clf.fit(X_train, y_train_90d)\n",
    "print clf.score(X_test, y_test_90d)\n",
    "# print \"Feature Importance:\", clf.feature_importances_"
   ]
  },
  {
   "cell_type": "code",
   "execution_count": 6,
   "metadata": {},
   "outputs": [
    {
     "name": "stdout",
     "output_type": "stream",
     "text": [
      "side : 0.0501\n",
      "return_t5 : 0.1182\n",
      "return_t30 : 0.1243\n",
      "vol_sh_out_pct : 0.0884\n",
      "tran_value : 0.102\n",
      "mkt_cap : 0.1336\n",
      "prev_tran_num : 0.1094\n",
      "hit_rate_5d : 0.0774\n",
      "hit_rate_30d : 0.0771\n",
      "hit_rate_90d : 0.1195\n"
     ]
    }
   ],
   "source": [
    "importances = clf.feature_importances_\n",
    "for i in range(0, len(col_list)):\n",
    "    print col_list[i], \":\", round(importances[i],4)"
   ]
  },
  {
   "cell_type": "code",
   "execution_count": null,
   "metadata": {
    "collapsed": true
   },
   "outputs": [],
   "source": []
  }
 ],
 "metadata": {
  "kernelspec": {
   "display_name": "Python 2",
   "language": "python",
   "name": "python2"
  },
  "language_info": {
   "codemirror_mode": {
    "name": "ipython",
    "version": 2
   },
   "file_extension": ".py",
   "mimetype": "text/x-python",
   "name": "python",
   "nbconvert_exporter": "python",
   "pygments_lexer": "ipython2",
   "version": "2.7.14"
  }
 },
 "nbformat": 4,
 "nbformat_minor": 2
}
