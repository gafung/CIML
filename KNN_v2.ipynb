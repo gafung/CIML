{
 "cells": [
  {
   "cell_type": "code",
   "execution_count": 97,
   "metadata": {
    "collapsed": false,
    "deletable": true,
    "editable": true
   },
   "outputs": [],
   "source": [
    "import pandas as pd\n",
    "import numpy as np\n",
    "url = \"data_v2.csv\"\n",
    "insider = pd.read_csv(url, header=0)"
   ]
  },
  {
   "cell_type": "code",
   "execution_count": 98,
   "metadata": {
    "collapsed": false,
    "deletable": true,
    "editable": true
   },
   "outputs": [
    {
     "data": {
      "text/plain": [
       "(88566, 26)"
      ]
     },
     "execution_count": 98,
     "metadata": {},
     "output_type": "execute_result"
    }
   ],
   "source": [
    "insider.shape"
   ]
  },
  {
   "cell_type": "code",
   "execution_count": 99,
   "metadata": {
    "collapsed": false
   },
   "outputs": [
    {
     "data": {
      "text/html": [
       "<div>\n",
       "<table border=\"1\" class=\"dataframe\">\n",
       "  <thead>\n",
       "    <tr style=\"text-align: right;\">\n",
       "      <th></th>\n",
       "      <th>side</th>\n",
       "      <th>return_t5</th>\n",
       "      <th>return_t30</th>\n",
       "      <th>vol_sh_out_pct</th>\n",
       "      <th>stakepct</th>\n",
       "      <th>stake_pct_chg</th>\n",
       "      <th>mkt_cap</th>\n",
       "      <th>prev_tran_num</th>\n",
       "      <th>return_5d</th>\n",
       "      <th>return_30d</th>\n",
       "      <th>...</th>\n",
       "      <th>pxt90</th>\n",
       "      <th>pxt-5</th>\n",
       "      <th>pxt-30</th>\n",
       "      <th>shr_out</th>\n",
       "      <th>name</th>\n",
       "      <th>side b/s</th>\n",
       "      <th>shares</th>\n",
       "      <th>interest</th>\n",
       "      <th>interest old</th>\n",
       "      <th>curr</th>\n",
       "    </tr>\n",
       "  </thead>\n",
       "  <tbody>\n",
       "    <tr>\n",
       "      <th>0</th>\n",
       "      <td>1</td>\n",
       "      <td>-0.102</td>\n",
       "      <td>-0.042</td>\n",
       "      <td>0.0123</td>\n",
       "      <td>4.9</td>\n",
       "      <td>0.002514</td>\n",
       "      <td>0.9</td>\n",
       "      <td>13</td>\n",
       "      <td>1</td>\n",
       "      <td>1</td>\n",
       "      <td>...</td>\n",
       "      <td>1.2</td>\n",
       "      <td>1.28</td>\n",
       "      <td>1.2</td>\n",
       "      <td>814.41</td>\n",
       "      <td>Ng, Patrick é»å¥è¯</td>\n",
       "      <td>Buy</td>\n",
       "      <td>100000.0</td>\n",
       "      <td>39881037</td>\n",
       "      <td>39781037</td>\n",
       "      <td>HKD</td>\n",
       "    </tr>\n",
       "    <tr>\n",
       "      <th>1</th>\n",
       "      <td>1</td>\n",
       "      <td>0.02</td>\n",
       "      <td>0.051</td>\n",
       "      <td>0.0002</td>\n",
       "      <td>0.0</td>\n",
       "      <td>0.142857</td>\n",
       "      <td>817.4</td>\n",
       "      <td>2</td>\n",
       "      <td>-1</td>\n",
       "      <td>1</td>\n",
       "      <td>...</td>\n",
       "      <td>68.1</td>\n",
       "      <td>66.4</td>\n",
       "      <td>64.4</td>\n",
       "      <td>12074.54</td>\n",
       "      <td>Lau, Lawrence Juen Yee åéµç¾©</td>\n",
       "      <td>Buy</td>\n",
       "      <td>20000.0</td>\n",
       "      <td>160000</td>\n",
       "      <td>140000</td>\n",
       "      <td>HKD</td>\n",
       "    </tr>\n",
       "  </tbody>\n",
       "</table>\n",
       "<p>2 rows × 26 columns</p>\n",
       "</div>"
      ],
      "text/plain": [
       "   side return_t5 return_t30 vol_sh_out_pct  stakepct  stake_pct_chg mkt_cap  \\\n",
       "0     1    -0.102     -0.042         0.0123       4.9       0.002514     0.9   \n",
       "1     1      0.02      0.051         0.0002       0.0       0.142857   817.4   \n",
       "\n",
       "   prev_tran_num return_5d return_30d ...  pxt90  pxt-5 pxt-30   shr_out  \\\n",
       "0             13         1          1 ...    1.2   1.28    1.2    814.41   \n",
       "1              2        -1          1 ...   68.1   66.4   64.4  12074.54   \n",
       "\n",
       "                               name side b/s    shares  interest interest old  \\\n",
       "0             Ng, Patrick é»å¥è¯      Buy  100000.0  39881037     39781037   \n",
       "1  Lau, Lawrence Juen Yee åéµç¾©      Buy   20000.0    160000       140000   \n",
       "\n",
       "  curr  \n",
       "0  HKD  \n",
       "1  HKD  \n",
       "\n",
       "[2 rows x 26 columns]"
      ]
     },
     "execution_count": 99,
     "metadata": {},
     "output_type": "execute_result"
    }
   ],
   "source": [
    "insider.head(2)"
   ]
  },
  {
   "cell_type": "code",
   "execution_count": 100,
   "metadata": {
    "collapsed": false,
    "deletable": true,
    "editable": true
   },
   "outputs": [],
   "source": [
    "IN_COLS = ['return_t5', 'return_t30', \"vol_sh_out_pct\", \"stakepct\", \"stake_pct_chg\", \"mkt_cap\", \"prev_tran_num\"]\n",
    "OUT_COLS = ['return_30d']\n",
    "COLS = IN_COLS + OUT_COLS\n",
    "\n",
    "# Drop poor data\n",
    "insider = insider[COLS]\n",
    "insider.replace([' -   ', '#VALUE!'], np.nan, inplace=True)\n",
    "insider = insider.astype('float')\n",
    "insider.dropna(how='any', inplace=True)\n",
    "\n",
    "X_train = insider[IN_COLS][:3000]\n",
    "y_train = insider['return_30d'][:3000]\n",
    "X_test = insider[IN_COLS][:-1000]\n",
    "y_test = insider['return_30d'][:-1000]"
   ]
  },
  {
   "cell_type": "code",
   "execution_count": 101,
   "metadata": {
    "collapsed": false
   },
   "outputs": [
    {
     "data": {
      "text/plain": [
       "(85112, 8)"
      ]
     },
     "execution_count": 101,
     "metadata": {},
     "output_type": "execute_result"
    }
   ],
   "source": [
    "insider.shape"
   ]
  },
  {
   "cell_type": "code",
   "execution_count": 102,
   "metadata": {
    "collapsed": false,
    "deletable": true,
    "editable": true
   },
   "outputs": [
    {
     "name": "stdout",
     "output_type": "stream",
     "text": [
      "0.511199353243\n"
     ]
    }
   ],
   "source": [
    "## Import the Classifier.\n",
    "from sklearn.neighbors import KNeighborsClassifier\n",
    "## Instantiate the model with 5 neighbors. \n",
    "knn = KNeighborsClassifier(n_neighbors=5)\n",
    "## Fit the model on the training data.\n",
    "knn.fit(X_train, y_train)\n",
    "## See how the model performs on the test data.\n",
    "print(knn.score(X_test, y_test))"
   ]
  },
  {
   "cell_type": "code",
   "execution_count": 103,
   "metadata": {
    "collapsed": false,
    "deletable": true,
    "editable": true
   },
   "outputs": [
    {
     "name": "stdout",
     "output_type": "stream",
     "text": [
      "0.853333333333\n"
     ]
    }
   ],
   "source": [
    "print(knn.score(X_train, y_train))"
   ]
  }
 ],
 "metadata": {
  "kernelspec": {
   "display_name": "Python 3",
   "language": "python",
   "name": "python3"
  },
  "language_info": {
   "codemirror_mode": {
    "name": "ipython",
    "version": 3
   },
   "file_extension": ".py",
   "mimetype": "text/x-python",
   "name": "python",
   "nbconvert_exporter": "python",
   "pygments_lexer": "ipython3",
   "version": "3.5.3"
  }
 },
 "nbformat": 4,
 "nbformat_minor": 2
}
